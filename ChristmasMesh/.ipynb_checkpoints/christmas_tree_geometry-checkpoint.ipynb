{
 "cells": [
  {
   "cell_type": "code",
   "execution_count": null,
   "id": "e9b59d05-8ba8-4e72-872b-bb244058ab2a",
   "metadata": {},
   "outputs": [],
   "source": [
    "#generate the geometry for a christmas tree\n",
    "from ngsolve import *\n",
    "from ngsolve.webgui import Draw\n",
    "from netgen.occ import *\n",
    "from netgen.webgui import Draw as DrawGeo\n",
    "ngsglobals.msg_level = 1"
   ]
  },
  {
   "cell_type": "code",
   "execution_count": null,
   "id": "aee6fbc7-e240-4e25-8f5d-b2bffd40e898",
   "metadata": {},
   "outputs": [],
   "source": [
    "def ChristmasTreeGeometry():\n",
    "    trunk = Rectangle(0.4,0.2).Face().Move((-0.2,0,0))\n",
    "    seg1 = Segment(Pnt(0,0.2,0),(0.6,0.2,0))\n",
    "    seg2 = Segment(Pnt(0.6,0.2,0),Pnt(0.3,0.4,0))\n",
    "    seg3 = Segment(Pnt(0.3,0.4,0),Pnt(0.5,0.4,0))\n",
    "    seg4 = Segment(Pnt(0.5,0.4,0),Pnt(0.2,0.6,0))\n",
    "    seg5 = Segment(Pnt(0.2,0.6,0),Pnt(0.4,0.6,0))\n",
    "    seg6 = Segment(Pnt(0.4,0.6,0),Pnt(0.1,0.8,0))\n",
    "    seg7 = Segment(Pnt(0.1,0.8,0),Pnt(0.3,0.8,0))\n",
    "    seg8 = Segment(Pnt(0.3,0.8,0),Pnt(0,1,0))\n",
    "    wire = Wire([seg1,seg2,seg3,seg4,seg5,seg6,seg7,seg8])\n",
    "    mirrored_wire = wire.Mirror(Axis((0,0,0), Y))\n",
    "    Green = Face(Wire([wire, mirrored_wire]))\n",
    "    trunk.faces.name=\"trunk_inner\"\n",
    "    trunk.col = (0.55, 0.27, 0.07)\n",
    "    Green.faces.name=\"tree_inner\"\n",
    "    trunk.edges.Min(Y).name = \"trunk\"\n",
    "    trunk.edges.Min(X).name = \"trunk\"\n",
    "    trunk.edges.Max(X).name = \"trunk\"\n",
    "    tree = Glue([trunk,Green])\n",
    "    tree.edges.Nearest((0.6,0.2,0)).name = \"tree\"\n",
    "    tree.edges.Nearest((-0.6,0.2,0)).name = \"tree\"\n",
    "    tree.edges.Nearest((0.3,0.4,0)).name = \"tree\"\n",
    "    tree.edges.Nearest((-0.3,0.4,0)).name = \"tree\"\n",
    "    tree.edges.Nearest((0.5,0.4,0)).name = \"tree\"\n",
    "    tree.edges.Nearest((-0.5,0.4,0)).name = \"tree\"\n",
    "    tree.edges.Nearest((0.2,0.6,0)).name = \"tree\"\n",
    "    tree.edges.Nearest((-0.2,0.6,0)).name = \"tree\"\n",
    "    tree.edges.Nearest((0.4,0.6,0)).name = \"tree\"\n",
    "    tree.edges.Nearest((-0.4,0.6,0)).name = \"tree\"\n",
    "    tree.edges.Nearest((0.1,0.8,0)).name = \"tree\"\n",
    "    tree.edges.Nearest((-0.1,0.8,0)).name = \"tree\"\n",
    "    tree.edges.Nearest((0.3,0.8,0)).name = \"tree\"\n",
    "    tree.edges.Nearest((-0.3,0.8,0)).name = \"tree\"\n",
    "    tree.edges.Nearest((0.001,1,0)).name = \"tree\"\n",
    "    tree.edges.Nearest((-0.001,1,0)).name = \"tree\"\n",
    "    geometry = OCCGeometry (tree, dim=2)\n",
    "    DrawGeo(tree)\n",
    "    return geometry"
   ]
  },
  {
   "cell_type": "code",
   "execution_count": null,
   "id": "f825b154-0658-4b51-88ba-513fd01d3b20",
   "metadata": {},
   "outputs": [],
   "source": [
    "geo = ChristmasTreeGeometry()\n",
    "mesh = Mesh ( geo . GenerateMesh ( maxh =0.2))\n"
   ]
  }
 ],
 "metadata": {
  "kernelspec": {
   "display_name": "Python 3 (ipykernel)",
   "language": "python",
   "name": "python3"
  },
  "language_info": {
   "codemirror_mode": {
    "name": "ipython",
    "version": 3
   },
   "file_extension": ".py",
   "mimetype": "text/x-python",
   "name": "python",
   "nbconvert_exporter": "python",
   "pygments_lexer": "ipython3",
   "version": "3.11.2"
  }
 },
 "nbformat": 4,
 "nbformat_minor": 5
}
